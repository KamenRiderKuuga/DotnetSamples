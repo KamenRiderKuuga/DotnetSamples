{
 "cells": [
  {
   "cell_type": "code",
   "execution_count": null,
   "metadata": {
    "dotnet_interactive": {
     "language": "csharp"
    },
    "vscode": {
     "languageId": "dotnet-interactive.csharp"
    }
   },
   "outputs": [
    {
     "name": "stdout",
     "output_type": "stream",
     "text": [
      "07:59:59.9999987\r\n",
      "-00:00:00.0000024\r\n",
      "1653628680943\r\n",
      "1653628680943\r\n",
      "2022/5/27 22:37:38\r\n",
      "2022/5/27 16:37:38 +02:00\r\n"
     ]
    }
   ],
   "source": [
    "using Newtonsoft.Json;\n",
    "\n",
    "// 可以看到，虽然都是表示当前时间，但是DateTime.Now和DateTime.UtcNow是有差值的\n",
    "Console.WriteLine(DateTime.Now - DateTime.UtcNow);\n",
    "// 对于DateTimeOffset，因为数据结构本身保存了时区信息，所以能够清晰表示处于不同时区的相同时间\n",
    "Console.WriteLine(DateTimeOffset.Now - DateTimeOffset.UtcNow);\n",
    "// 在计算时间戳时，因为每一个DateTimeOffset可以代表唯一的一个确定的时间点，所以有原生的函数可以调用\n",
    "Console.WriteLine(DateTimeOffset.Now.ToUnixTimeMilliseconds());\n",
    "Console.WriteLine(DateTimeOffset.UtcNow.ToUnixTimeMilliseconds());\n",
    "\n",
    "public class CustomDateTime\n",
    "{\n",
    "    public DateTime Time { get; set; }\n",
    "    public DateTimeOffset TimeOffset { get; set; }\n",
    "}\n",
    "\n",
    "var data = JsonConvert.DeserializeObject<CustomDateTime>(@\"\n",
    "{\n",
    "    \"\"Time\"\": \"\"2022-05-27 16:37:38 +02:00\"\",\n",
    "    \"\"TimeOffset\"\": \"\"2022-05-27 16:37:38 +02:00\"\"\n",
    "}\");\n",
    "\n",
    "// 可以看到，时区信息在转换成DateTime类型之后丢失了，再也无法知道原始时区\n",
    "Console.WriteLine(data.Time);\n",
    "Console.WriteLine(data.TimeOffset);"
   ]
  },
  {
   "cell_type": "code",
   "execution_count": null,
   "metadata": {
    "dotnet_interactive": {
     "language": "csharp"
    },
    "vscode": {
     "languageId": "dotnet-interactive.csharp"
    }
   },
   "outputs": [
    {
     "data": {
      "text/html": [
       "<div><div></div><div></div><div><strong>Installed Packages</strong><ul><li><span>Cronos, 0.7.1</span></li></ul></div></div>"
      ]
     },
     "metadata": {},
     "output_type": "display_data"
    },
    {
     "name": "stdout",
     "output_type": "stream",
     "text": [
      "2022/5/27 17:00:00 +08:00\r\n",
      "2022/5/30 10:00:00 +08:00\r\n",
      "2022/5/30 17:00:00 +08:00\r\n",
      "2022/5/31 10:00:00 +08:00\r\n",
      "2022/5/31 17:00:00 +08:00\r\n",
      "2022/6/1 10:00:00 +08:00\r\n",
      "2022/6/1 17:00:00 +08:00\r\n",
      "2022/6/2 10:00:00 +08:00\r\n",
      "2022/6/2 17:00:00 +08:00\r\n",
      "2022/6/3 10:00:00 +08:00\r\n"
     ]
    }
   ],
   "source": [
    "#r \"nuget:Cronos\"\n",
    "\n",
    "using Cronos;\n",
    "\n",
    "CronExpression expression = CronExpression.Parse(\"0 10,17 * * MON-FRI\");\n",
    "var next = expression.GetOccurrences(DateTimeOffset.UtcNow, DateTimeOffset.UtcNow.AddMonths(1), TimeZoneInfo.Local);\n",
    "\n",
    "foreach(var item in next.Take(10))\n",
    "{\n",
    "    Console.WriteLine(item);\n",
    "}"
   ]
  }
 ],
 "metadata": {
  "interpreter": {
   "hash": "bbb6b28f8a77d4f84e96dcc7b06d5e825586dfb2d03e7abc545b2045edb0c68d"
  },
  "kernelspec": {
   "display_name": ".NET (C#)",
   "language": "C#",
   "name": ".net-csharp"
  },
  "language_info": {
   "file_extension": ".cs",
   "mimetype": "text/x-csharp",
   "name": "C#",
   "pygments_lexer": "csharp",
   "version": "9.0"
  }
 },
 "nbformat": 4,
 "nbformat_minor": 2
}
